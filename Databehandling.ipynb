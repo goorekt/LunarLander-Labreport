{
 "cells": [
  {
   "cell_type": "markdown",
   "metadata": {},
   "source": [
    "Sample size calculation"
   ]
  },
  {
   "cell_type": "code",
   "execution_count": 3,
   "metadata": {},
   "outputs": [
    {
     "name": "stdout",
     "output_type": "stream",
     "text": [
      "1.8316659084014195\n"
     ]
    }
   ],
   "source": [
    "import numpy as np\n",
    "fuel_x=([33.9,34.9,30.0,32.8])\n",
    "sx_x=np.sqrt(np.var(fuel_x))\n",
    "print(sx_x)"
   ]
  },
  {
   "cell_type": "code",
   "execution_count": 4,
   "metadata": {},
   "outputs": [
    {
     "name": "stdout",
     "output_type": "stream",
     "text": [
      "1288.8567999999987\n"
     ]
    }
   ],
   "source": [
    "# Calculating the sample size with margin of error of 10%\n",
    "e=0.1\n",
    "n_x=(1.96**2)*((sx_x**2)/(e**2))\n",
    "print(n_x)"
   ]
  },
  {
   "cell_type": "code",
   "execution_count": 6,
   "metadata": {},
   "outputs": [
    {
     "name": "stdout",
     "output_type": "stream",
     "text": [
      "151\n"
     ]
    }
   ],
   "source": [
    "# Indlæser dataen\n",
    "import pandas as pd\n",
    "fuel_df=pd.read_csv(\"fuel_data.csv\")\n",
    "fuel=list(fuel_df.iloc[:,-1])\n",
    "\n",
    "# Tæller antal værdier, der er 0.0\n",
    "counter=0\n",
    "for tal in fuel:\n",
    "    if tal==0.0:\n",
    "        counter=counter+1\n",
    "        \n",
    "print(counter)"
   ]
  },
  {
   "cell_type": "markdown",
   "metadata": {},
   "source": [
    "### 95% konfidensinterval for middelværdien:"
   ]
  },
  {
   "cell_type": "code",
   "execution_count": 9,
   "metadata": {},
   "outputs": [
    {
     "name": "stdout",
     "output_type": "stream",
     "text": [
      "[np.float64(21.263876418587426), np.float64(22.3479248236486)]\n"
     ]
    }
   ],
   "source": [
    "n=len(fuel)\n",
    "mean=np.mean(fuel) # gennemsnit\n",
    "sx=np.sqrt(sum((fuel-mean)**2)/(n-1)) # standardafvigelse\n",
    "int=1.96*(sx/np.sqrt(n))\n",
    "#konfidensinterval:\n",
    "print([mean-int,mean+int])"
   ]
  },
  {
   "cell_type": "markdown",
   "metadata": {},
   "source": [
    "### 95% konfidensinterval for variansen"
   ]
  },
  {
   "cell_type": "code",
   "execution_count": 10,
   "metadata": {},
   "outputs": [
    {
     "name": "stdout",
     "output_type": "stream",
     "text": [
      "[ 91.31255676 106.57767935]\n"
     ]
    }
   ],
   "source": [
    "# for at gøre dette benytter vi os af chi2-fordelingen\n",
    "import scipy.stats as stats\n",
    "var=sx**2 # varians\n",
    "lim=stats.chi2.ppf((0.975,0.025),df=n-1,loc=0,scale=1) # grænserne konfidensinterval på 95\n",
    "print((n-1)*var/lim)"
   ]
  }
 ],
 "metadata": {
  "kernelspec": {
   "display_name": "IntelligentSystems",
   "language": "python",
   "name": "python3"
  },
  "language_info": {
   "codemirror_mode": {
    "name": "ipython",
    "version": 3
   },
   "file_extension": ".py",
   "mimetype": "text/x-python",
   "name": "python",
   "nbconvert_exporter": "python",
   "pygments_lexer": "ipython3",
   "version": "3.12.2"
  }
 },
 "nbformat": 4,
 "nbformat_minor": 2
}
